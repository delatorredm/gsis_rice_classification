{
 "cells": [
  {
   "cell_type": "code",
   "execution_count": 1,
   "metadata": {},
   "outputs": [],
   "source": [
    "# import libraries\n",
    "%matplotlib inline\n",
    "import numpy as np\n",
    "from matplotlib import pyplot as plt\n",
    "from matplotlib import dates as mdates\n",
    "import pandas as pd\n",
    "import pathlib"
   ]
  },
  {
   "cell_type": "code",
   "execution_count": 21,
   "metadata": {},
   "outputs": [
    {
     "name": "stdout",
     "output_type": "stream",
     "text": [
      "        Date             variable     value\n",
      "0   1-Jan-19  GCVI Irrigated Rice  2.980125\n",
      "1   1-Feb-19  GCVI Irrigated Rice  2.662750\n",
      "2   1-Mar-19  GCVI Irrigated Rice  2.296125\n",
      "3   1-Apr-19  GCVI Irrigated Rice  1.158625\n",
      "4   1-May-19  GCVI Irrigated Rice  1.004857\n",
      "..       ...                  ...       ...\n",
      "67  1-Aug-19   LSWI Rain-fed Rice  0.301300\n",
      "68  1-Sep-19   LSWI Rain-fed Rice  0.227700\n",
      "69  1-Oct-19   LSWI Rain-fed Rice  0.176600\n",
      "70  1-Nov-19   LSWI Rain-fed Rice  0.140889\n",
      "71  1-Dec-19   LSWI Rain-fed Rice  0.286800\n",
      "\n",
      "[72 rows x 3 columns]\n"
     ]
    }
   ],
   "source": [
    "infilename = pathlib.Path('/Users/delatorredm/Documents/Ch3_Classification_Paper/data/vi_comparisons.csv')\n",
    "infile = pd.read_csv(infilename)\n",
    "infile.rename(columns={\"Unnamed: 0\": \"Date\"}, inplace=True)\n",
    "\n",
    "# Tidy up the dataset\n",
    "tidy_df = infile.copy()\n",
    "tidy_df = pd.melt(tidy_df, id_vars=['Date'], value_vars=list(tidy_df.columns[1:]))\n",
    "\n",
    "\n",
    "\n",
    "print(tidy_df)"
   ]
  },
  {
   "cell_type": "code",
   "execution_count": null,
   "metadata": {},
   "outputs": [],
   "source": []
  }
 ],
 "metadata": {
  "kernelspec": {
   "display_name": "Python 3",
   "language": "python",
   "name": "python3"
  },
  "language_info": {
   "codemirror_mode": {
    "name": "ipython",
    "version": 3
   },
   "file_extension": ".py",
   "mimetype": "text/x-python",
   "name": "python",
   "nbconvert_exporter": "python",
   "pygments_lexer": "ipython3",
   "version": "3.8.1"
  }
 },
 "nbformat": 4,
 "nbformat_minor": 4
}
